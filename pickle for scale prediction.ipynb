{
 "cells": [
  {
   "cell_type": "code",
   "execution_count": 1,
   "id": "1a69a6fd",
   "metadata": {},
   "outputs": [
    {
     "name": "stdout",
     "output_type": "stream",
     "text": [
      "0.9649680970923542\n",
      "Mean squared error (MSE): 0.10\n",
      "Coefficient of determination (R^2): 0.79\n"
     ]
    }
   ],
   "source": [
    "import pandas as pd\n",
    "import numpy as np\n",
    "import sklearn\n",
    "\n",
    "\n",
    "\n",
    "from sklearn.ensemble import RandomForestRegressor\n",
    "\n",
    "\n",
    "# Define the URL of the raw dataset on GitHub\n",
    "url = \"https://github.com/arashtayyebi/ss/raw/main/UND%20Data92.XLSX\"\n",
    "\n",
    "# Load the dataset from the URL\n",
    "df = pd.read_excel(url)\n",
    "\n",
    "#df = pd.read_excel('C:/Users/arash.tayyebi/Desktop/scale/data/done/UND Data9.xlsx')\n",
    "\n",
    "Y = df.iloc[:,19:28]\n",
    "\n",
    "X = df.iloc[:,0:19]\n",
    "\n",
    "#data split\n",
    "from sklearn.model_selection import train_test_split\n",
    "X_train, X_test, Y_train, Y_test = train_test_split(X, Y, test_size=0.2,random_state=991)\n",
    "#test size is 20% and traing size is 80%\n",
    "#linear regression\n",
    "from sklearn import linear_model\n",
    "from sklearn.linear_model import LinearRegression\n",
    "from sklearn.metrics import mean_squared_error, r2_score\n",
    "model = RandomForestRegressor(n_estimators=100, random_state=42)\n",
    "model.fit(X_train, Y_train)\n",
    "\n",
    "print (model.score(X_train, Y_train))\n",
    "\n",
    "Y_pred_test = model.predict(X_test)\n",
    "print('Mean squared error (MSE): %.2f'\n",
    "      % mean_squared_error(Y_test, Y_pred_test,squared=False))\n",
    "print('Coefficient of determination (R^2): %.2f'\n",
    "      % r2_score(Y_test, Y_pred_test))\n",
    "\n",
    "import pickle\n",
    "pickle.dump(model, open('RF9y2.pkl','wb'))\n",
    "#\n",
    "#model=pickle.load (open('model.pkl','rb'))\n",
    "#print (model.predict([[6.14,9.385,500,391.6,17.5,337.233,14970,1674280,204.3,6605,1727,13.38,83500,5.745,116.9,350.7,54.21,1089,14.85\n",
    "#]]))"
   ]
  },
  {
   "cell_type": "code",
   "execution_count": 2,
   "id": "43fb7df1",
   "metadata": {},
   "outputs": [
    {
     "data": {
      "text/html": [
       "<div>\n",
       "<style scoped>\n",
       "    .dataframe tbody tr th:only-of-type {\n",
       "        vertical-align: middle;\n",
       "    }\n",
       "\n",
       "    .dataframe tbody tr th {\n",
       "        vertical-align: top;\n",
       "    }\n",
       "\n",
       "    .dataframe thead th {\n",
       "        text-align: right;\n",
       "    }\n",
       "</style>\n",
       "<table border=\"1\" class=\"dataframe\">\n",
       "  <thead>\n",
       "    <tr style=\"text-align: right;\">\n",
       "      <th></th>\n",
       "      <th>pH</th>\n",
       "      <th>ICP_Al</th>\n",
       "      <th>ICP_B</th>\n",
       "      <th>ICP_Ba</th>\n",
       "      <th>ICP_HCO3</th>\n",
       "      <th>ICP_Ca</th>\n",
       "      <th>ICP_Cl</th>\n",
       "      <th>ICP_Cu</th>\n",
       "      <th>ICP_Fe</th>\n",
       "      <th>ICP_K</th>\n",
       "      <th>ICP_Mg</th>\n",
       "      <th>ICP_Mn</th>\n",
       "      <th>ICP_Na</th>\n",
       "      <th>ICP_Pb</th>\n",
       "      <th>ICP_S</th>\n",
       "      <th>ICP_Sulfate</th>\n",
       "      <th>ICP_Si</th>\n",
       "      <th>ICP_Sr</th>\n",
       "      <th>ICP_Zn</th>\n",
       "    </tr>\n",
       "  </thead>\n",
       "  <tbody>\n",
       "    <tr>\n",
       "      <th>0</th>\n",
       "      <td>5</td>\n",
       "      <td>5</td>\n",
       "      <td>5</td>\n",
       "      <td>5</td>\n",
       "      <td>5</td>\n",
       "      <td>5</td>\n",
       "      <td>5</td>\n",
       "      <td>5</td>\n",
       "      <td>5</td>\n",
       "      <td>5</td>\n",
       "      <td>5</td>\n",
       "      <td>5</td>\n",
       "      <td>5</td>\n",
       "      <td>5</td>\n",
       "      <td>5</td>\n",
       "      <td>5</td>\n",
       "      <td>5</td>\n",
       "      <td>5</td>\n",
       "      <td>5</td>\n",
       "    </tr>\n",
       "  </tbody>\n",
       "</table>\n",
       "</div>"
      ],
      "text/plain": [
       "   pH  ICP_Al  ICP_B  ICP_Ba  ICP_HCO3  ICP_Ca  ICP_Cl  ICP_Cu  ICP_Fe  ICP_K  \\\n",
       "0   5       5      5       5         5       5       5       5       5      5   \n",
       "\n",
       "   ICP_Mg  ICP_Mn  ICP_Na  ICP_Pb  ICP_S  ICP_Sulfate  ICP_Si  ICP_Sr  ICP_Zn  \n",
       "0       5       5       5       5      5            5       5       5       5  "
      ]
     },
     "execution_count": 2,
     "metadata": {},
     "output_type": "execute_result"
    }
   ],
   "source": [
    "import pandas as pd\n",
    "testdata = pd.read_excel('C:/Users/arash.tayyebi/Desktop/scale/data/done/test.xlsx')\n",
    "\n",
    "\n",
    "Xnew=testdata\n",
    "Xnew"
   ]
  },
  {
   "cell_type": "code",
   "execution_count": 3,
   "id": "3b975758",
   "metadata": {},
   "outputs": [
    {
     "data": {
      "text/plain": [
       "array([[-1.1528466 , -0.8693679 ,  0.77040005, -0.63542193, -0.47673258,\n",
       "        -0.8793143 , -0.7653762 ,  1.2666006 , -2.4438832 ]],\n",
       "      dtype=float32)"
      ]
     },
     "execution_count": 3,
     "metadata": {},
     "output_type": "execute_result"
    }
   ],
   "source": [
    "ynew = model.predict(Xnew)\n",
    "#print(\"X=%s, Predicted=%s\" % (Xnew[0], ynew[0]))\n",
    "ynew"
   ]
  },
  {
   "cell_type": "code",
   "execution_count": 5,
   "id": "b62c5620",
   "metadata": {},
   "outputs": [
    {
     "ename": "NameError",
     "evalue": "name 'X_train' is not defined",
     "output_type": "error",
     "traceback": [
      "\u001b[1;31m---------------------------------------------------------------------------\u001b[0m",
      "\u001b[1;31mNameError\u001b[0m                                 Traceback (most recent call last)",
      "Input \u001b[1;32mIn [5]\u001b[0m, in \u001b[0;36m<cell line: 1>\u001b[1;34m()\u001b[0m\n\u001b[1;32m----> 1\u001b[0m model\u001b[38;5;241m.\u001b[39mfit(\u001b[43mX_train\u001b[49m, Y_train)\n\u001b[0;32m      2\u001b[0m \u001b[38;5;66;03m# Predict the target variable for the test data\u001b[39;00m\n\u001b[0;32m      3\u001b[0m ynew \u001b[38;5;241m=\u001b[39m model\u001b[38;5;241m.\u001b[39mpredict(Xnew)\n",
      "\u001b[1;31mNameError\u001b[0m: name 'X_train' is not defined"
     ]
    }
   ],
   "source": [
    "model.fit(X_train, Y_train)\n",
    "# Predict the target variable for the test data\n",
    "ynew = model.predict(Xnew)\n",
    "#print(\"X=%s, Predicted=%s\" % (Xnew[0], ynew[0]))\n",
    "ynew"
   ]
  },
  {
   "cell_type": "code",
   "execution_count": null,
   "id": "7d0f3381",
   "metadata": {},
   "outputs": [],
   "source": []
  },
  {
   "cell_type": "code",
   "execution_count": null,
   "id": "6de5fe34",
   "metadata": {},
   "outputs": [],
   "source": []
  },
  {
   "cell_type": "code",
   "execution_count": 1,
   "id": "0e7ba5a9",
   "metadata": {},
   "outputs": [
    {
     "name": "stdout",
     "output_type": "stream",
     "text": [
      "Mean squared error (RMSE): 0.05\n",
      "Coefficient of determination (R^2): 0.96\n"
     ]
    }
   ],
   "source": [
    "##XGboost\n",
    "\n",
    "import pandas as pd\n",
    "import numpy as np\n",
    "import sklearn\n",
    "\n",
    "\n",
    "\n",
    "from sklearn.ensemble import RandomForestRegressor\n",
    "\n",
    "\n",
    "# Define the URL of the raw dataset on GitHub\n",
    "url = \"https://github.com/arashtayyebi/ss/raw/main/UND%20Data92.XLSX\"\n",
    "\n",
    "# Load the dataset from the URL\n",
    "df = pd.read_excel(url)\n",
    "\n",
    "#df = pd.read_excel('C:/Users/arash.tayyebi/Desktop/scale/data/done/UND Data9.xlsx')\n",
    "\n",
    "Y = df.iloc[:,19:28]\n",
    "\n",
    "X = df.iloc[:,0:19]\n",
    "\n",
    "#data split\n",
    "from sklearn.model_selection import train_test_split\n",
    "X_train, X_test, Y_train, Y_test = train_test_split(X, Y, test_size=0.2,random_state=991)\n",
    "\n",
    "\n",
    "#test size is 20% and traing size is 80%\n",
    "\n",
    "\n",
    "from sklearn.metrics import mean_squared_error, r2_score\n",
    "import xgboost as xgb\n",
    "model = xgb.XGBRegressor(verbosity=1) \n",
    "\n",
    "\n",
    "model.fit(X_train, Y_train)\n",
    "Y_pred_test = model.predict(X_test)\n",
    "print('Mean squared error (RMSE): %.2f'\n",
    "      % mean_squared_error(Y_test, Y_pred_test,squared=False))\n",
    "print('Coefficient of determination (R^2): %.2f'\n",
    "      % r2_score(Y_test, Y_pred_test))\n",
    "import pickle\n",
    "pickle.dump(model, open('XG9y.pkl','wb'))\n",
    "#\n",
    "#model=pickle.load (open('model.pkl','rb'))\n",
    "#print (model.predict([[6.14,9.385,500,391.6,17.5,337.233,14970,1674280,204.3,6605,1727,13.38,83500,5.745,116.9,350.7,54.21,1089,14.85\n",
    "#]]))"
   ]
  },
  {
   "cell_type": "code",
   "execution_count": 3,
   "id": "56c3ba42",
   "metadata": {},
   "outputs": [
    {
     "data": {
      "text/plain": [
       "array([[-3.22290212e-01,  4.39851999e-01,  1.67104697e+00,\n",
       "         5.82987726e-01,  3.71519595e-01, -1.21483885e-01,\n",
       "         8.90155956e-02,  2.67002964e+00, -2.10287631e-01],\n",
       "       [-3.89587790e-01,  7.24887550e-01,  1.68407142e+00,\n",
       "         8.65978539e-01,  3.66518468e-01, -1.67739823e-01,\n",
       "        -4.60405163e-02,  2.69621968e+00,  1.33520022e-01],\n",
       "       [-2.86373049e-01,  1.41334208e-03,  1.84803092e+00,\n",
       "         1.32625222e-01,  4.56347018e-01, -4.91983108e-02,\n",
       "         8.27412829e-02,  2.80784059e+00, -9.77892637e-01],\n",
       "       [-3.27312589e-01,  1.25618398e-01,  1.77682507e+00,\n",
       "         2.62294352e-01,  4.32844549e-01, -1.24882333e-01,\n",
       "         2.64950767e-02,  2.73214602e+00, -7.78070271e-01],\n",
       "       [-3.11674476e-01, -8.11739918e-03,  1.85582852e+00,\n",
       "         1.37919426e-01,  4.08533990e-01, -9.88482013e-02,\n",
       "         1.71261877e-02,  2.73724985e+00, -1.03049338e+00],\n",
       "       [-3.25741738e-01,  1.96400091e-01,  1.72631991e+00,\n",
       "         3.32109213e-01,  4.16561455e-01, -8.98654386e-02,\n",
       "        -8.59297216e-02,  2.64055800e+00, -6.83260024e-01],\n",
       "       [-3.36882681e-01,  2.59642571e-01,  1.79621637e+00,\n",
       "         3.90463918e-01,  3.98807764e-01, -1.22912750e-01,\n",
       "        -6.64848611e-02,  2.62796378e+00, -6.42088115e-01],\n",
       "       [-2.61536956e-01,  1.91527262e-01,  1.84560394e+00,\n",
       "         3.13519537e-01,  4.76911783e-01, -7.10529163e-02,\n",
       "         8.20946246e-02,  2.73842883e+00, -7.89350569e-01]], dtype=float32)"
      ]
     },
     "execution_count": 3,
     "metadata": {},
     "output_type": "execute_result"
    }
   ],
   "source": [
    "xgbr.fit(X_train, Y_train)\n",
    "# Predict the target variable for the test data\n",
    "ynew = xgbr.predict(Xnew)\n",
    "#print(\"X=%s, Predicted=%s\" % (Xnew[0], ynew[0]))\n",
    "ynew"
   ]
  },
  {
   "cell_type": "code",
   "execution_count": 1,
   "id": "8b5f9497",
   "metadata": {},
   "outputs": [],
   "source": [
    "import pickle\n",
    "model = pickle.load(open('C:/Users/arash.tayyebi/Desktop/scale/data/done/last updated 0206/RF9y.pkl', 'rb'))\n",
    "\n"
   ]
  },
  {
   "cell_type": "code",
   "execution_count": 3,
   "id": "5283dfa7",
   "metadata": {},
   "outputs": [],
   "source": [
    "import pickle\n",
    "model = pickle.load(open('C:/Users/arash.tayyebi/Desktop/scale/data/done/last updated 0206/XG9y.pkl', 'rb'))"
   ]
  },
  {
   "cell_type": "code",
   "execution_count": null,
   "id": "9259404f",
   "metadata": {},
   "outputs": [],
   "source": []
  },
  {
   "cell_type": "code",
   "execution_count": 8,
   "id": "2e6da76b",
   "metadata": {},
   "outputs": [
    {
     "name": "stdout",
     "output_type": "stream",
     "text": [
      "Collecting prettytable\n",
      "  Downloading prettytable-3.9.0-py3-none-any.whl (27 kB)\n",
      "Requirement already satisfied: wcwidth in c:\\users\\arash.tayyebi\\anaconda2\\lib\\site-packages (from prettytable) (0.2.5)\n",
      "Installing collected packages: prettytable\n",
      "Successfully installed prettytable-3.9.0\n"
     ]
    },
    {
     "name": "stderr",
     "output_type": "stream",
     "text": [
      "WARNING: Ignoring invalid distribution -mpy (c:\\users\\arash.tayyebi\\anaconda2\\lib\\site-packages)\n",
      "WARNING: Ignoring invalid distribution -umpy (c:\\users\\arash.tayyebi\\anaconda2\\lib\\site-packages)\n",
      "WARNING: Ignoring invalid distribution -mpy (c:\\users\\arash.tayyebi\\anaconda2\\lib\\site-packages)\n",
      "WARNING: Ignoring invalid distribution - (c:\\users\\arash.tayyebi\\anaconda2\\lib\\site-packages)\n",
      "WARNING: Ignoring invalid distribution -mpy (c:\\users\\arash.tayyebi\\anaconda2\\lib\\site-packages)\n",
      "WARNING: Ignoring invalid distribution -umpy (c:\\users\\arash.tayyebi\\anaconda2\\lib\\site-packages)\n",
      "WARNING: Ignoring invalid distribution -mpy (c:\\users\\arash.tayyebi\\anaconda2\\lib\\site-packages)\n",
      "WARNING: Ignoring invalid distribution - (c:\\users\\arash.tayyebi\\anaconda2\\lib\\site-packages)\n",
      "WARNING: Ignoring invalid distribution -mpy (c:\\users\\arash.tayyebi\\anaconda2\\lib\\site-packages)\n",
      "WARNING: Ignoring invalid distribution -umpy (c:\\users\\arash.tayyebi\\anaconda2\\lib\\site-packages)\n",
      "WARNING: Ignoring invalid distribution -mpy (c:\\users\\arash.tayyebi\\anaconda2\\lib\\site-packages)\n",
      "WARNING: Ignoring invalid distribution - (c:\\users\\arash.tayyebi\\anaconda2\\lib\\site-packages)\n",
      "WARNING: Ignoring invalid distribution -mpy (c:\\users\\arash.tayyebi\\anaconda2\\lib\\site-packages)\n",
      "WARNING: Ignoring invalid distribution -umpy (c:\\users\\arash.tayyebi\\anaconda2\\lib\\site-packages)\n",
      "WARNING: Ignoring invalid distribution -mpy (c:\\users\\arash.tayyebi\\anaconda2\\lib\\site-packages)\n",
      "WARNING: Ignoring invalid distribution - (c:\\users\\arash.tayyebi\\anaconda2\\lib\\site-packages)\n",
      "WARNING: Ignoring invalid distribution -mpy (c:\\users\\arash.tayyebi\\anaconda2\\lib\\site-packages)\n",
      "WARNING: Ignoring invalid distribution -umpy (c:\\users\\arash.tayyebi\\anaconda2\\lib\\site-packages)\n",
      "WARNING: Ignoring invalid distribution -mpy (c:\\users\\arash.tayyebi\\anaconda2\\lib\\site-packages)\n",
      "WARNING: Ignoring invalid distribution - (c:\\users\\arash.tayyebi\\anaconda2\\lib\\site-packages)\n",
      "WARNING: Ignoring invalid distribution -mpy (c:\\users\\arash.tayyebi\\anaconda2\\lib\\site-packages)\n",
      "WARNING: Ignoring invalid distribution -umpy (c:\\users\\arash.tayyebi\\anaconda2\\lib\\site-packages)\n",
      "WARNING: Ignoring invalid distribution -mpy (c:\\users\\arash.tayyebi\\anaconda2\\lib\\site-packages)\n",
      "WARNING: Ignoring invalid distribution - (c:\\users\\arash.tayyebi\\anaconda2\\lib\\site-packages)\n",
      "WARNING: Ignoring invalid distribution -mpy (c:\\users\\arash.tayyebi\\anaconda2\\lib\\site-packages)\n",
      "WARNING: Ignoring invalid distribution -umpy (c:\\users\\arash.tayyebi\\anaconda2\\lib\\site-packages)\n",
      "WARNING: Ignoring invalid distribution -mpy (c:\\users\\arash.tayyebi\\anaconda2\\lib\\site-packages)\n",
      "WARNING: Ignoring invalid distribution - (c:\\users\\arash.tayyebi\\anaconda2\\lib\\site-packages)\n"
     ]
    }
   ],
   "source": [
    "!pip install prettytable\n"
   ]
  },
  {
   "cell_type": "code",
   "execution_count": null,
   "id": "bd5f792d",
   "metadata": {},
   "outputs": [],
   "source": []
  },
  {
   "cell_type": "code",
   "execution_count": null,
   "id": "32c2aa5c",
   "metadata": {},
   "outputs": [],
   "source": []
  },
  {
   "cell_type": "code",
   "execution_count": null,
   "id": "a78168d0",
   "metadata": {},
   "outputs": [],
   "source": []
  }
 ],
 "metadata": {
  "kernelspec": {
   "display_name": "Python 3 (ipykernel)",
   "language": "python",
   "name": "python3"
  },
  "language_info": {
   "codemirror_mode": {
    "name": "ipython",
    "version": 3
   },
   "file_extension": ".py",
   "mimetype": "text/x-python",
   "name": "python",
   "nbconvert_exporter": "python",
   "pygments_lexer": "ipython3",
   "version": "3.9.12"
  }
 },
 "nbformat": 4,
 "nbformat_minor": 5
}
