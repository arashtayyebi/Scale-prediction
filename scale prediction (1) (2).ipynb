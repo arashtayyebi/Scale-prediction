{
 "cells": [
  {
   "cell_type": "code",
   "execution_count": 1,
   "id": "95f64556",
   "metadata": {},
   "outputs": [],
   "source": [
    "import pandas as pd\n",
    "import numpy as np\n",
    "import os\n",
    "import seaborn as sns\n",
    "import matplotlib.pyplot as plt\n",
    "%matplotlib inline \n",
    "\n",
    "#importing rdkit\n",
    "from rdkit import Chem\n",
    "from rdkit.Chem import AllChem\n",
    "from rdkit.Chem import Descriptors\n",
    "from rdkit import RDConfig\n",
    "from rdkit.Chem.Draw import IPythonConsole\n",
    "from rdkit.Chem import Draw\n",
    "#from utility import FeatureGenerator\n",
    "from rdkit.Chem import PandasTools as PandasTools\n",
    "from rdkit import DataStructs\n",
    "from rdkit.Chem.Subshape import SubshapeBuilder,SubshapeAligner,SubshapeObjects\n",
    "\n",
    "#importing sklearn \n",
    "from sklearn.model_selection import train_test_split, StratifiedKFold, GridSearchCV\n",
    "from sklearn.metrics import r2_score, mean_squared_error, mean_absolute_error\n",
    "from sklearn.ensemble import RandomForestRegressor\n",
    "from sklearn.neural_network import MLPRegressor\n",
    "from sklearn.svm import SVR\n",
    "import pandas as pd\n"
   ]
  },
  {
   "cell_type": "code",
   "execution_count": 2,
   "id": "7f805def",
   "metadata": {},
   "outputs": [
    {
     "name": "stdout",
     "output_type": "stream",
     "text": [
      "<bound method NDFrame.head of         pH  ICP_Al  ICP_B  ICP_Ba  ICP_HCO3  ICP_Ca  ICP_Cl  ICP_Cu  ICP_Fe  \\\n",
      "0     6.14   9.385  391.6  17.500   337.233   14970  167428   0.000  204.30   \n",
      "1     6.24  12.410  510.5  48.130   475.290   18980  154541   0.174  274.00   \n",
      "2     6.21   4.361  503.2  48.780   518.180   19240  135505   1.125  328.10   \n",
      "3     6.01  13.150  480.2  46.570   235.950   19890  143779   0.848  162.00   \n",
      "4     6.07  14.690  478.2  52.260   250.630   20300  147964   0.000  207.20   \n",
      "...    ...     ...    ...     ...       ...     ...     ...     ...     ...   \n",
      "2307  5.95  12.890  487.2  17.710   133.800   19990  169050   0.032  231.50   \n",
      "2308  6.85   5.782  196.5   1.451   241.870    8072  137185   0.418  259.30   \n",
      "2309  6.08   6.847  246.9   2.071   126.130    9530  159683   0.316   50.23   \n",
      "2310  5.91  14.110  413.1  15.730   104.311   15050  144237   0.000   59.54   \n",
      "2311  5.74  11.880  478.5  16.730   122.480   17740  174476   0.000  102.30   \n",
      "\n",
      "      ICP_K  ...  ICP_Zn  CaSO4-Anhydrite  CaCO3-Aragonite  BaSO4-Barite  \\\n",
      "0      6605  ...  14.850            -0.37             0.38          1.66   \n",
      "1      7847  ...  16.010            -0.46             0.69          1.91   \n",
      "2      7221  ...  18.160            -0.48             0.65          1.91   \n",
      "3      7845  ...  36.820            -0.35             0.15          1.99   \n",
      "4      7763  ...  41.170            -0.32             0.24          2.06   \n",
      "...     ...  ...     ...              ...              ...           ...   \n",
      "2307   7775  ...  35.570            -0.28            -0.14          1.62   \n",
      "2308   3787  ...   3.175            -0.65             0.82          0.60   \n",
      "2309   4546  ...   1.437            -0.51            -0.18          0.80   \n",
      "2310   5880  ...   1.749            -0.56            -0.37          1.43   \n",
      "2311   5968  ...   8.172            -0.45            -0.41          1.47   \n",
      "\n",
      "      CaCO3-Calcite  SrSO4-Celestite  CaSO4:2H2O-Gypsum  NaCl-Halite  \\\n",
      "0              0.52             0.31              -0.16         0.05   \n",
      "1              0.83             0.37              -0.24        -0.05   \n",
      "2              0.79             0.44              -0.22        -0.31   \n",
      "3              0.29             0.48              -0.11        -0.20   \n",
      "4              0.38             0.55              -0.08        -0.20   \n",
      "...             ...              ...                ...          ...   \n",
      "2307           0.00             0.35              -0.08         0.12   \n",
      "2308           0.96             0.02              -0.39        -0.28   \n",
      "2309          -0.04             0.09              -0.29        -0.04   \n",
      "2310          -0.22             0.20              -0.32        -0.17   \n",
      "2311          -0.27             0.21              -0.26         0.15   \n",
      "\n",
      "      SiO2-Quartz  FeCO3-Siderite  \n",
      "0            2.15           -0.37  \n",
      "1            2.12            0.11  \n",
      "2            2.05            0.31  \n",
      "3            2.20           -0.66  \n",
      "4            2.47           -0.44  \n",
      "...           ...             ...  \n",
      "2307         2.31           -0.94  \n",
      "2308         1.77            0.65  \n",
      "2309         1.97           -2.30  \n",
      "2310         1.88           -1.81  \n",
      "2311         2.46           -1.62  \n",
      "\n",
      "[2312 rows x 28 columns]>\n"
     ]
    }
   ],
   "source": [
    "from rdkit.Chem import AllChem\n",
    "from rdkit import Chem\n",
    "import pandas as pd\n",
    "\n",
    "\n",
    "\n",
    "url = \"https://github.com/arashtayyebi/Scale-prediction/raw/main/Dataset-Scale.XLSX\"\n",
    "\n",
    "# Load the dataset from the URL\n",
    "df = pd.read_excel(url)\n",
    "\n",
    "#df = pd.read_excel('C:/Users/arash.tayyebi/Desktop/scale/data/done/UND Data92.xlsx')\n",
    "\n",
    "print(df.head)\n"
   ]
  },
  {
   "cell_type": "code",
   "execution_count": 3,
   "id": "6db33124",
   "metadata": {},
   "outputs": [
    {
     "data": {
      "text/html": [
       "<div>\n",
       "<style scoped>\n",
       "    .dataframe tbody tr th:only-of-type {\n",
       "        vertical-align: middle;\n",
       "    }\n",
       "\n",
       "    .dataframe tbody tr th {\n",
       "        vertical-align: top;\n",
       "    }\n",
       "\n",
       "    .dataframe thead th {\n",
       "        text-align: right;\n",
       "    }\n",
       "</style>\n",
       "<table border=\"1\" class=\"dataframe\">\n",
       "  <thead>\n",
       "    <tr style=\"text-align: right;\">\n",
       "      <th></th>\n",
       "      <th>CaSO4-Anhydrite</th>\n",
       "      <th>CaCO3-Aragonite</th>\n",
       "      <th>BaSO4-Barite</th>\n",
       "      <th>CaCO3-Calcite</th>\n",
       "      <th>SrSO4-Celestite</th>\n",
       "      <th>CaSO4:2H2O-Gypsum</th>\n",
       "      <th>NaCl-Halite</th>\n",
       "      <th>SiO2-Quartz</th>\n",
       "      <th>FeCO3-Siderite</th>\n",
       "    </tr>\n",
       "  </thead>\n",
       "  <tbody>\n",
       "    <tr>\n",
       "      <th>0</th>\n",
       "      <td>-0.37</td>\n",
       "      <td>0.38</td>\n",
       "      <td>1.66</td>\n",
       "      <td>0.52</td>\n",
       "      <td>0.31</td>\n",
       "      <td>-0.16</td>\n",
       "      <td>0.05</td>\n",
       "      <td>2.15</td>\n",
       "      <td>-0.37</td>\n",
       "    </tr>\n",
       "    <tr>\n",
       "      <th>1</th>\n",
       "      <td>-0.46</td>\n",
       "      <td>0.69</td>\n",
       "      <td>1.91</td>\n",
       "      <td>0.83</td>\n",
       "      <td>0.37</td>\n",
       "      <td>-0.24</td>\n",
       "      <td>-0.05</td>\n",
       "      <td>2.12</td>\n",
       "      <td>0.11</td>\n",
       "    </tr>\n",
       "    <tr>\n",
       "      <th>2</th>\n",
       "      <td>-0.48</td>\n",
       "      <td>0.65</td>\n",
       "      <td>1.91</td>\n",
       "      <td>0.79</td>\n",
       "      <td>0.44</td>\n",
       "      <td>-0.22</td>\n",
       "      <td>-0.31</td>\n",
       "      <td>2.05</td>\n",
       "      <td>0.31</td>\n",
       "    </tr>\n",
       "    <tr>\n",
       "      <th>3</th>\n",
       "      <td>-0.35</td>\n",
       "      <td>0.15</td>\n",
       "      <td>1.99</td>\n",
       "      <td>0.29</td>\n",
       "      <td>0.48</td>\n",
       "      <td>-0.11</td>\n",
       "      <td>-0.20</td>\n",
       "      <td>2.20</td>\n",
       "      <td>-0.66</td>\n",
       "    </tr>\n",
       "    <tr>\n",
       "      <th>4</th>\n",
       "      <td>-0.32</td>\n",
       "      <td>0.24</td>\n",
       "      <td>2.06</td>\n",
       "      <td>0.38</td>\n",
       "      <td>0.55</td>\n",
       "      <td>-0.08</td>\n",
       "      <td>-0.20</td>\n",
       "      <td>2.47</td>\n",
       "      <td>-0.44</td>\n",
       "    </tr>\n",
       "    <tr>\n",
       "      <th>...</th>\n",
       "      <td>...</td>\n",
       "      <td>...</td>\n",
       "      <td>...</td>\n",
       "      <td>...</td>\n",
       "      <td>...</td>\n",
       "      <td>...</td>\n",
       "      <td>...</td>\n",
       "      <td>...</td>\n",
       "      <td>...</td>\n",
       "    </tr>\n",
       "    <tr>\n",
       "      <th>2307</th>\n",
       "      <td>-0.28</td>\n",
       "      <td>-0.14</td>\n",
       "      <td>1.62</td>\n",
       "      <td>0.00</td>\n",
       "      <td>0.35</td>\n",
       "      <td>-0.08</td>\n",
       "      <td>0.12</td>\n",
       "      <td>2.31</td>\n",
       "      <td>-0.94</td>\n",
       "    </tr>\n",
       "    <tr>\n",
       "      <th>2308</th>\n",
       "      <td>-0.65</td>\n",
       "      <td>0.82</td>\n",
       "      <td>0.60</td>\n",
       "      <td>0.96</td>\n",
       "      <td>0.02</td>\n",
       "      <td>-0.39</td>\n",
       "      <td>-0.28</td>\n",
       "      <td>1.77</td>\n",
       "      <td>0.65</td>\n",
       "    </tr>\n",
       "    <tr>\n",
       "      <th>2309</th>\n",
       "      <td>-0.51</td>\n",
       "      <td>-0.18</td>\n",
       "      <td>0.80</td>\n",
       "      <td>-0.04</td>\n",
       "      <td>0.09</td>\n",
       "      <td>-0.29</td>\n",
       "      <td>-0.04</td>\n",
       "      <td>1.97</td>\n",
       "      <td>-2.30</td>\n",
       "    </tr>\n",
       "    <tr>\n",
       "      <th>2310</th>\n",
       "      <td>-0.56</td>\n",
       "      <td>-0.37</td>\n",
       "      <td>1.43</td>\n",
       "      <td>-0.22</td>\n",
       "      <td>0.20</td>\n",
       "      <td>-0.32</td>\n",
       "      <td>-0.17</td>\n",
       "      <td>1.88</td>\n",
       "      <td>-1.81</td>\n",
       "    </tr>\n",
       "    <tr>\n",
       "      <th>2311</th>\n",
       "      <td>-0.45</td>\n",
       "      <td>-0.41</td>\n",
       "      <td>1.47</td>\n",
       "      <td>-0.27</td>\n",
       "      <td>0.21</td>\n",
       "      <td>-0.26</td>\n",
       "      <td>0.15</td>\n",
       "      <td>2.46</td>\n",
       "      <td>-1.62</td>\n",
       "    </tr>\n",
       "  </tbody>\n",
       "</table>\n",
       "<p>2312 rows × 9 columns</p>\n",
       "</div>"
      ],
      "text/plain": [
       "      CaSO4-Anhydrite  CaCO3-Aragonite  BaSO4-Barite  CaCO3-Calcite  \\\n",
       "0               -0.37             0.38          1.66           0.52   \n",
       "1               -0.46             0.69          1.91           0.83   \n",
       "2               -0.48             0.65          1.91           0.79   \n",
       "3               -0.35             0.15          1.99           0.29   \n",
       "4               -0.32             0.24          2.06           0.38   \n",
       "...               ...              ...           ...            ...   \n",
       "2307            -0.28            -0.14          1.62           0.00   \n",
       "2308            -0.65             0.82          0.60           0.96   \n",
       "2309            -0.51            -0.18          0.80          -0.04   \n",
       "2310            -0.56            -0.37          1.43          -0.22   \n",
       "2311            -0.45            -0.41          1.47          -0.27   \n",
       "\n",
       "      SrSO4-Celestite  CaSO4:2H2O-Gypsum  NaCl-Halite  SiO2-Quartz  \\\n",
       "0                0.31              -0.16         0.05         2.15   \n",
       "1                0.37              -0.24        -0.05         2.12   \n",
       "2                0.44              -0.22        -0.31         2.05   \n",
       "3                0.48              -0.11        -0.20         2.20   \n",
       "4                0.55              -0.08        -0.20         2.47   \n",
       "...               ...                ...          ...          ...   \n",
       "2307             0.35              -0.08         0.12         2.31   \n",
       "2308             0.02              -0.39        -0.28         1.77   \n",
       "2309             0.09              -0.29        -0.04         1.97   \n",
       "2310             0.20              -0.32        -0.17         1.88   \n",
       "2311             0.21              -0.26         0.15         2.46   \n",
       "\n",
       "      FeCO3-Siderite  \n",
       "0              -0.37  \n",
       "1               0.11  \n",
       "2               0.31  \n",
       "3              -0.66  \n",
       "4              -0.44  \n",
       "...              ...  \n",
       "2307           -0.94  \n",
       "2308            0.65  \n",
       "2309           -2.30  \n",
       "2310           -1.81  \n",
       "2311           -1.62  \n",
       "\n",
       "[2312 rows x 9 columns]"
      ]
     },
     "execution_count": 3,
     "metadata": {},
     "output_type": "execute_result"
    }
   ],
   "source": [
    "Y = df.iloc[:,19:28]\n",
    "Y"
   ]
  },
  {
   "cell_type": "code",
   "execution_count": 3,
   "id": "3ea40db7",
   "metadata": {},
   "outputs": [
    {
     "data": {
      "text/html": [
       "<div>\n",
       "<style scoped>\n",
       "    .dataframe tbody tr th:only-of-type {\n",
       "        vertical-align: middle;\n",
       "    }\n",
       "\n",
       "    .dataframe tbody tr th {\n",
       "        vertical-align: top;\n",
       "    }\n",
       "\n",
       "    .dataframe thead th {\n",
       "        text-align: right;\n",
       "    }\n",
       "</style>\n",
       "<table border=\"1\" class=\"dataframe\">\n",
       "  <thead>\n",
       "    <tr style=\"text-align: right;\">\n",
       "      <th></th>\n",
       "      <th>CaSO4:2H2O-Gypsum</th>\n",
       "    </tr>\n",
       "  </thead>\n",
       "  <tbody>\n",
       "    <tr>\n",
       "      <th>0</th>\n",
       "      <td>-0.16</td>\n",
       "    </tr>\n",
       "    <tr>\n",
       "      <th>1</th>\n",
       "      <td>-0.24</td>\n",
       "    </tr>\n",
       "    <tr>\n",
       "      <th>2</th>\n",
       "      <td>-0.22</td>\n",
       "    </tr>\n",
       "    <tr>\n",
       "      <th>3</th>\n",
       "      <td>-0.11</td>\n",
       "    </tr>\n",
       "    <tr>\n",
       "      <th>4</th>\n",
       "      <td>-0.08</td>\n",
       "    </tr>\n",
       "    <tr>\n",
       "      <th>...</th>\n",
       "      <td>...</td>\n",
       "    </tr>\n",
       "    <tr>\n",
       "      <th>2307</th>\n",
       "      <td>-0.08</td>\n",
       "    </tr>\n",
       "    <tr>\n",
       "      <th>2308</th>\n",
       "      <td>-0.39</td>\n",
       "    </tr>\n",
       "    <tr>\n",
       "      <th>2309</th>\n",
       "      <td>-0.29</td>\n",
       "    </tr>\n",
       "    <tr>\n",
       "      <th>2310</th>\n",
       "      <td>-0.32</td>\n",
       "    </tr>\n",
       "    <tr>\n",
       "      <th>2311</th>\n",
       "      <td>-0.26</td>\n",
       "    </tr>\n",
       "  </tbody>\n",
       "</table>\n",
       "<p>2312 rows × 1 columns</p>\n",
       "</div>"
      ],
      "text/plain": [
       "      CaSO4:2H2O-Gypsum\n",
       "0                 -0.16\n",
       "1                 -0.24\n",
       "2                 -0.22\n",
       "3                 -0.11\n",
       "4                 -0.08\n",
       "...                 ...\n",
       "2307              -0.08\n",
       "2308              -0.39\n",
       "2309              -0.29\n",
       "2310              -0.32\n",
       "2311              -0.26\n",
       "\n",
       "[2312 rows x 1 columns]"
      ]
     },
     "execution_count": 3,
     "metadata": {},
     "output_type": "execute_result"
    }
   ],
   "source": [
    "Y = df.iloc[:,24:25]\n",
    "Y"
   ]
  },
  {
   "cell_type": "code",
   "execution_count": 4,
   "id": "2a4eb0b3",
   "metadata": {},
   "outputs": [
    {
     "data": {
      "text/html": [
       "<div>\n",
       "<style scoped>\n",
       "    .dataframe tbody tr th:only-of-type {\n",
       "        vertical-align: middle;\n",
       "    }\n",
       "\n",
       "    .dataframe tbody tr th {\n",
       "        vertical-align: top;\n",
       "    }\n",
       "\n",
       "    .dataframe thead th {\n",
       "        text-align: right;\n",
       "    }\n",
       "</style>\n",
       "<table border=\"1\" class=\"dataframe\">\n",
       "  <thead>\n",
       "    <tr style=\"text-align: right;\">\n",
       "      <th></th>\n",
       "      <th>pH</th>\n",
       "      <th>ICP_Al</th>\n",
       "      <th>ICP_B</th>\n",
       "      <th>ICP_Ba</th>\n",
       "      <th>ICP_HCO3</th>\n",
       "      <th>ICP_Ca</th>\n",
       "      <th>ICP_Cl</th>\n",
       "      <th>ICP_Cu</th>\n",
       "      <th>ICP_Fe</th>\n",
       "      <th>ICP_K</th>\n",
       "      <th>ICP_Mg</th>\n",
       "      <th>ICP_Mn</th>\n",
       "      <th>ICP_Na</th>\n",
       "      <th>ICP_Pb</th>\n",
       "      <th>ICP_S</th>\n",
       "      <th>ICP_Sulfate</th>\n",
       "      <th>ICP_Si</th>\n",
       "      <th>ICP_Sr</th>\n",
       "      <th>ICP_Zn</th>\n",
       "    </tr>\n",
       "  </thead>\n",
       "  <tbody>\n",
       "    <tr>\n",
       "      <th>0</th>\n",
       "      <td>6.14</td>\n",
       "      <td>9.385</td>\n",
       "      <td>391.6</td>\n",
       "      <td>17.500</td>\n",
       "      <td>337.233</td>\n",
       "      <td>14970</td>\n",
       "      <td>167428</td>\n",
       "      <td>0.000</td>\n",
       "      <td>204.30</td>\n",
       "      <td>6605</td>\n",
       "      <td>1727.0</td>\n",
       "      <td>13.380</td>\n",
       "      <td>83500</td>\n",
       "      <td>5.745</td>\n",
       "      <td>116.90</td>\n",
       "      <td>350.70</td>\n",
       "      <td>54.21</td>\n",
       "      <td>1089.0</td>\n",
       "      <td>14.850</td>\n",
       "    </tr>\n",
       "    <tr>\n",
       "      <th>1</th>\n",
       "      <td>6.24</td>\n",
       "      <td>12.410</td>\n",
       "      <td>510.5</td>\n",
       "      <td>48.130</td>\n",
       "      <td>475.290</td>\n",
       "      <td>18980</td>\n",
       "      <td>154541</td>\n",
       "      <td>0.174</td>\n",
       "      <td>274.00</td>\n",
       "      <td>7847</td>\n",
       "      <td>1315.0</td>\n",
       "      <td>45.840</td>\n",
       "      <td>78390</td>\n",
       "      <td>2.316</td>\n",
       "      <td>79.43</td>\n",
       "      <td>238.29</td>\n",
       "      <td>56.77</td>\n",
       "      <td>1918.0</td>\n",
       "      <td>16.010</td>\n",
       "    </tr>\n",
       "    <tr>\n",
       "      <th>2</th>\n",
       "      <td>6.21</td>\n",
       "      <td>4.361</td>\n",
       "      <td>503.2</td>\n",
       "      <td>48.780</td>\n",
       "      <td>518.180</td>\n",
       "      <td>19240</td>\n",
       "      <td>135505</td>\n",
       "      <td>1.125</td>\n",
       "      <td>328.10</td>\n",
       "      <td>7221</td>\n",
       "      <td>1326.0</td>\n",
       "      <td>54.120</td>\n",
       "      <td>65570</td>\n",
       "      <td>3.568</td>\n",
       "      <td>87.84</td>\n",
       "      <td>263.52</td>\n",
       "      <td>67.24</td>\n",
       "      <td>2132.0</td>\n",
       "      <td>18.160</td>\n",
       "    </tr>\n",
       "    <tr>\n",
       "      <th>3</th>\n",
       "      <td>6.01</td>\n",
       "      <td>13.150</td>\n",
       "      <td>480.2</td>\n",
       "      <td>46.570</td>\n",
       "      <td>235.950</td>\n",
       "      <td>19890</td>\n",
       "      <td>143779</td>\n",
       "      <td>0.848</td>\n",
       "      <td>162.00</td>\n",
       "      <td>7845</td>\n",
       "      <td>1094.0</td>\n",
       "      <td>18.210</td>\n",
       "      <td>70930</td>\n",
       "      <td>0.000</td>\n",
       "      <td>105.60</td>\n",
       "      <td>316.80</td>\n",
       "      <td>82.03</td>\n",
       "      <td>1866.0</td>\n",
       "      <td>36.820</td>\n",
       "    </tr>\n",
       "    <tr>\n",
       "      <th>4</th>\n",
       "      <td>6.07</td>\n",
       "      <td>14.690</td>\n",
       "      <td>478.2</td>\n",
       "      <td>52.260</td>\n",
       "      <td>250.630</td>\n",
       "      <td>20300</td>\n",
       "      <td>147964</td>\n",
       "      <td>0.000</td>\n",
       "      <td>207.20</td>\n",
       "      <td>7763</td>\n",
       "      <td>1130.0</td>\n",
       "      <td>18.920</td>\n",
       "      <td>67630</td>\n",
       "      <td>2.713</td>\n",
       "      <td>108.40</td>\n",
       "      <td>325.20</td>\n",
       "      <td>150.70</td>\n",
       "      <td>2122.0</td>\n",
       "      <td>41.170</td>\n",
       "    </tr>\n",
       "    <tr>\n",
       "      <th>...</th>\n",
       "      <td>...</td>\n",
       "      <td>...</td>\n",
       "      <td>...</td>\n",
       "      <td>...</td>\n",
       "      <td>...</td>\n",
       "      <td>...</td>\n",
       "      <td>...</td>\n",
       "      <td>...</td>\n",
       "      <td>...</td>\n",
       "      <td>...</td>\n",
       "      <td>...</td>\n",
       "      <td>...</td>\n",
       "      <td>...</td>\n",
       "      <td>...</td>\n",
       "      <td>...</td>\n",
       "      <td>...</td>\n",
       "      <td>...</td>\n",
       "      <td>...</td>\n",
       "      <td>...</td>\n",
       "    </tr>\n",
       "    <tr>\n",
       "      <th>2307</th>\n",
       "      <td>5.95</td>\n",
       "      <td>12.890</td>\n",
       "      <td>487.2</td>\n",
       "      <td>17.710</td>\n",
       "      <td>133.800</td>\n",
       "      <td>19990</td>\n",
       "      <td>169050</td>\n",
       "      <td>0.032</td>\n",
       "      <td>231.50</td>\n",
       "      <td>7775</td>\n",
       "      <td>1518.0</td>\n",
       "      <td>13.880</td>\n",
       "      <td>84800</td>\n",
       "      <td>8.362</td>\n",
       "      <td>101.60</td>\n",
       "      <td>304.80</td>\n",
       "      <td>66.72</td>\n",
       "      <td>1367.0</td>\n",
       "      <td>35.570</td>\n",
       "    </tr>\n",
       "    <tr>\n",
       "      <th>2308</th>\n",
       "      <td>6.85</td>\n",
       "      <td>5.782</td>\n",
       "      <td>196.5</td>\n",
       "      <td>1.451</td>\n",
       "      <td>241.870</td>\n",
       "      <td>8072</td>\n",
       "      <td>137185</td>\n",
       "      <td>0.418</td>\n",
       "      <td>259.30</td>\n",
       "      <td>3787</td>\n",
       "      <td>949.1</td>\n",
       "      <td>5.650</td>\n",
       "      <td>77440</td>\n",
       "      <td>0.767</td>\n",
       "      <td>139.90</td>\n",
       "      <td>419.70</td>\n",
       "      <td>40.34</td>\n",
       "      <td>483.6</td>\n",
       "      <td>3.175</td>\n",
       "    </tr>\n",
       "    <tr>\n",
       "      <th>2309</th>\n",
       "      <td>6.08</td>\n",
       "      <td>6.847</td>\n",
       "      <td>246.9</td>\n",
       "      <td>2.071</td>\n",
       "      <td>126.130</td>\n",
       "      <td>9530</td>\n",
       "      <td>159683</td>\n",
       "      <td>0.316</td>\n",
       "      <td>50.23</td>\n",
       "      <td>4546</td>\n",
       "      <td>1211.0</td>\n",
       "      <td>2.868</td>\n",
       "      <td>86000</td>\n",
       "      <td>0.000</td>\n",
       "      <td>141.10</td>\n",
       "      <td>423.30</td>\n",
       "      <td>44.24</td>\n",
       "      <td>539.0</td>\n",
       "      <td>1.437</td>\n",
       "    </tr>\n",
       "    <tr>\n",
       "      <th>2310</th>\n",
       "      <td>5.91</td>\n",
       "      <td>14.110</td>\n",
       "      <td>413.1</td>\n",
       "      <td>15.730</td>\n",
       "      <td>104.311</td>\n",
       "      <td>15050</td>\n",
       "      <td>144237</td>\n",
       "      <td>0.000</td>\n",
       "      <td>59.54</td>\n",
       "      <td>5880</td>\n",
       "      <td>1236.0</td>\n",
       "      <td>9.239</td>\n",
       "      <td>78000</td>\n",
       "      <td>0.000</td>\n",
       "      <td>87.43</td>\n",
       "      <td>262.29</td>\n",
       "      <td>40.29</td>\n",
       "      <td>1188.0</td>\n",
       "      <td>1.749</td>\n",
       "    </tr>\n",
       "    <tr>\n",
       "      <th>2311</th>\n",
       "      <td>5.74</td>\n",
       "      <td>11.880</td>\n",
       "      <td>478.5</td>\n",
       "      <td>16.730</td>\n",
       "      <td>122.480</td>\n",
       "      <td>17740</td>\n",
       "      <td>174476</td>\n",
       "      <td>0.000</td>\n",
       "      <td>102.30</td>\n",
       "      <td>5968</td>\n",
       "      <td>1489.0</td>\n",
       "      <td>11.250</td>\n",
       "      <td>87400</td>\n",
       "      <td>0.020</td>\n",
       "      <td>75.05</td>\n",
       "      <td>225.15</td>\n",
       "      <td>91.32</td>\n",
       "      <td>1315.0</td>\n",
       "      <td>8.172</td>\n",
       "    </tr>\n",
       "  </tbody>\n",
       "</table>\n",
       "<p>2312 rows × 19 columns</p>\n",
       "</div>"
      ],
      "text/plain": [
       "        pH  ICP_Al  ICP_B  ICP_Ba  ICP_HCO3  ICP_Ca  ICP_Cl  ICP_Cu  ICP_Fe  \\\n",
       "0     6.14   9.385  391.6  17.500   337.233   14970  167428   0.000  204.30   \n",
       "1     6.24  12.410  510.5  48.130   475.290   18980  154541   0.174  274.00   \n",
       "2     6.21   4.361  503.2  48.780   518.180   19240  135505   1.125  328.10   \n",
       "3     6.01  13.150  480.2  46.570   235.950   19890  143779   0.848  162.00   \n",
       "4     6.07  14.690  478.2  52.260   250.630   20300  147964   0.000  207.20   \n",
       "...    ...     ...    ...     ...       ...     ...     ...     ...     ...   \n",
       "2307  5.95  12.890  487.2  17.710   133.800   19990  169050   0.032  231.50   \n",
       "2308  6.85   5.782  196.5   1.451   241.870    8072  137185   0.418  259.30   \n",
       "2309  6.08   6.847  246.9   2.071   126.130    9530  159683   0.316   50.23   \n",
       "2310  5.91  14.110  413.1  15.730   104.311   15050  144237   0.000   59.54   \n",
       "2311  5.74  11.880  478.5  16.730   122.480   17740  174476   0.000  102.30   \n",
       "\n",
       "      ICP_K  ICP_Mg  ICP_Mn  ICP_Na  ICP_Pb   ICP_S  ICP_Sulfate  ICP_Si  \\\n",
       "0      6605  1727.0  13.380   83500   5.745  116.90       350.70   54.21   \n",
       "1      7847  1315.0  45.840   78390   2.316   79.43       238.29   56.77   \n",
       "2      7221  1326.0  54.120   65570   3.568   87.84       263.52   67.24   \n",
       "3      7845  1094.0  18.210   70930   0.000  105.60       316.80   82.03   \n",
       "4      7763  1130.0  18.920   67630   2.713  108.40       325.20  150.70   \n",
       "...     ...     ...     ...     ...     ...     ...          ...     ...   \n",
       "2307   7775  1518.0  13.880   84800   8.362  101.60       304.80   66.72   \n",
       "2308   3787   949.1   5.650   77440   0.767  139.90       419.70   40.34   \n",
       "2309   4546  1211.0   2.868   86000   0.000  141.10       423.30   44.24   \n",
       "2310   5880  1236.0   9.239   78000   0.000   87.43       262.29   40.29   \n",
       "2311   5968  1489.0  11.250   87400   0.020   75.05       225.15   91.32   \n",
       "\n",
       "      ICP_Sr  ICP_Zn  \n",
       "0     1089.0  14.850  \n",
       "1     1918.0  16.010  \n",
       "2     2132.0  18.160  \n",
       "3     1866.0  36.820  \n",
       "4     2122.0  41.170  \n",
       "...      ...     ...  \n",
       "2307  1367.0  35.570  \n",
       "2308   483.6   3.175  \n",
       "2309   539.0   1.437  \n",
       "2310  1188.0   1.749  \n",
       "2311  1315.0   8.172  \n",
       "\n",
       "[2312 rows x 19 columns]"
      ]
     },
     "execution_count": 4,
     "metadata": {},
     "output_type": "execute_result"
    }
   ],
   "source": [
    "X = df.iloc[:,0:19]\n",
    "X"
   ]
  },
  {
   "cell_type": "code",
   "execution_count": 5,
   "id": "7a0eaab2",
   "metadata": {},
   "outputs": [],
   "source": [
    "#data split\n",
    "from sklearn.model_selection import train_test_split\n",
    "X_train, X_test, Y_train, Y_test = train_test_split(X, Y, test_size=0.2,random_state=991)\n",
    "#test size is 20% and traing size is 80%\n",
    "#linear regression\n",
    "from sklearn import linear_model\n",
    "from sklearn.linear_model import LinearRegression\n",
    "from sklearn.metrics import mean_squared_error, r2_score"
   ]
  },
  {
   "cell_type": "code",
   "execution_count": 6,
   "id": "806f6b5f",
   "metadata": {},
   "outputs": [
    {
     "data": {
      "text/plain": [
       "LinearRegression()"
      ]
     },
     "execution_count": 6,
     "metadata": {},
     "output_type": "execute_result"
    }
   ],
   "source": [
    "reg = LinearRegression()\n",
    "reg.fit(X_train,Y_train)"
   ]
  },
  {
   "cell_type": "code",
   "execution_count": 7,
   "id": "f7f3e89f",
   "metadata": {},
   "outputs": [
    {
     "name": "stdout",
     "output_type": "stream",
     "text": [
      "Mean squared error (MSE): 0.09\n",
      "Coefficient of determination (R^2): 0.84\n"
     ]
    }
   ],
   "source": [
    "#predicts the X_train\n",
    "Y_pred_train = reg.predict(X_train)\n",
    "#print('Coefficients:', model.coef_)\n",
    "#print('Intercept:', model.intercept_)\n",
    "print('Mean squared error (MSE): %.2f'\n",
    "      % mean_squared_error(Y_train, Y_pred_train,squared=False))\n",
    "print('Coefficient of determination (R^2): %.2f'\n",
    "      % r2_score(Y_train, Y_pred_train))"
   ]
  },
  {
   "cell_type": "code",
   "execution_count": 8,
   "id": "ff495aa1",
   "metadata": {},
   "outputs": [
    {
     "name": "stdout",
     "output_type": "stream",
     "text": [
      "MAE (filtered test): 0.0556867971713276\n",
      "RMSE (filtered test): 0.1111466932979592\n",
      "R^2 (filtered test): 0.8398021452387959\n"
     ]
    }
   ],
   "source": [
    "mae_test2 = mean_absolute_error(Y_train, Y_pred_train)\n",
    "rmse_test2 = np.sqrt(mean_squared_error(Y_train, Y_pred_train))\n",
    "r2_test2 = r2_score(Y_train, Y_pred_train)\n",
    "\n",
    "# Print the results\n",
    "print(\"MAE (filtered test):\", mae_test2)\n",
    "print(\"RMSE (filtered test):\", rmse_test2)\n",
    "print(\"R^2 (filtered test):\", r2_test2)"
   ]
  },
  {
   "cell_type": "code",
   "execution_count": 9,
   "id": "4a90a86b",
   "metadata": {},
   "outputs": [
    {
     "name": "stdout",
     "output_type": "stream",
     "text": [
      "Mean squared error (MSE): 0.10\n",
      "Coefficient of determination (R^2): 0.82\n"
     ]
    }
   ],
   "source": [
    "#predicts the X_test\n",
    "Y_pred_test = reg.predict(X_test)\n",
    "#print('Coefficients:', model.coef_)44444444444\n",
    "#print('Intercept:', model.intercept_)\n",
    "print('Mean squared error (MSE): %.2f'\n",
    "      % mean_squared_error(Y_test, Y_pred_test,squared=False))\n",
    "print('Coefficient of determination (R^2): %.2f'\n",
    "      % r2_score(Y_test, Y_pred_test))"
   ]
  },
  {
   "cell_type": "code",
   "execution_count": 10,
   "id": "97b28d65",
   "metadata": {},
   "outputs": [
    {
     "name": "stdout",
     "output_type": "stream",
     "text": [
      "MAE (filtered test): 0.05746068065207296\n",
      "RMSE (filtered test): 0.1121617812038104\n",
      "R^2 (filtered test): 0.8209421157294525\n"
     ]
    }
   ],
   "source": [
    "mae_filtered_test2 = mean_absolute_error(Y_test, Y_pred_test)\n",
    "rmse_filtered_test2 = np.sqrt(mean_squared_error(Y_test, Y_pred_test))\n",
    "r2_filtered_test2 = r2_score(Y_test, Y_pred_test)\n",
    "\n",
    "# Print the results\n",
    "print(\"MAE (filtered test):\", mae_filtered_test2)\n",
    "print(\"RMSE (filtered test):\", rmse_filtered_test2)\n",
    "print(\"R^2 (filtered test):\", r2_filtered_test2)"
   ]
  },
  {
   "cell_type": "code",
   "execution_count": 6,
   "id": "d15f8855",
   "metadata": {},
   "outputs": [
    {
     "name": "stderr",
     "output_type": "stream",
     "text": [
      "C:\\Users\\DEDP Grader\\AppData\\Local\\Temp\\ipykernel_2228\\72191333.py:2: DataConversionWarning: A column-vector y was passed when a 1d array was expected. Please change the shape of y to (n_samples,), for example using ravel().\n",
      "  model.fit(X_train, Y_train)\n"
     ]
    },
    {
     "data": {
      "text/plain": [
       "RandomForestRegressor(random_state=42)"
      ]
     },
     "execution_count": 6,
     "metadata": {},
     "output_type": "execute_result"
    }
   ],
   "source": [
    "model = RandomForestRegressor(n_estimators=100, random_state=42)\n",
    "model.fit(X_train, Y_train)"
   ]
  },
  {
   "cell_type": "code",
   "execution_count": 7,
   "id": "031511f0",
   "metadata": {},
   "outputs": [
    {
     "name": "stdout",
     "output_type": "stream",
     "text": [
      "Mean squared error (RMSE): 0.02\n",
      "Coefficient of determination (R^2): 0.98\n"
     ]
    }
   ],
   "source": [
    "#predicts the X_train\n",
    "Y_pred_train = model.predict(X_train)\n",
    "#print('Coefficients:', model.coef_)\n",
    "#print('Intercept:', model.intercept_)\n",
    "print('Mean squared error (RMSE): %.2f'\n",
    "      % mean_squared_error(Y_train, Y_pred_train,squared=False))\n",
    "print('Coefficient of determination (R^2): %.2f'\n",
    "      % r2_score(Y_train, Y_pred_train))"
   ]
  },
  {
   "cell_type": "code",
   "execution_count": 8,
   "id": "525ef6e5",
   "metadata": {},
   "outputs": [
    {
     "name": "stdout",
     "output_type": "stream",
     "text": [
      "MAE (filtered test): 0.005417360735532731\n",
      "RMSE (filtered test): 0.018576338194722784\n",
      "R^2 (filtered test): 0.9837288484217392\n"
     ]
    }
   ],
   "source": [
    "mae_test2 = mean_absolute_error(Y_train, Y_pred_train)\n",
    "rmse_test2 = np.sqrt(mean_squared_error(Y_train, Y_pred_train))\n",
    "r2_test2 = r2_score(Y_train, Y_pred_train)\n",
    "\n",
    "# Print the results\n",
    "print(\"MAE (filtered test):\", mae_test2)\n",
    "print(\"RMSE (filtered test):\", rmse_test2)\n",
    "print(\"R^2 (filtered test):\", r2_test2)"
   ]
  },
  {
   "cell_type": "code",
   "execution_count": 9,
   "id": "5ac3d690",
   "metadata": {},
   "outputs": [
    {
     "name": "stdout",
     "output_type": "stream",
     "text": [
      "Mean squared error (MSE): 0.05\n",
      "Coefficient of determination (R^2): 0.90\n"
     ]
    }
   ],
   "source": [
    "Y_pred_test = model.predict(X_test)\n",
    "print('Mean squared error (MSE): %.2f'\n",
    "      % mean_squared_error(Y_test, Y_pred_test,squared=False))\n",
    "print('Coefficient of determination (R^2): %.2f'\n",
    "      % r2_score(Y_test, Y_pred_test))"
   ]
  },
  {
   "cell_type": "code",
   "execution_count": 10,
   "id": "60164b8e",
   "metadata": {},
   "outputs": [
    {
     "name": "stdout",
     "output_type": "stream",
     "text": [
      "MAE (filtered test): 0.015281425485961125\n",
      "RMSE (filtered test): 0.0454827575142659\n",
      "R^2 (filtered test): 0.9017417046598811\n"
     ]
    }
   ],
   "source": [
    "mae_filtered_test2 = mean_absolute_error(Y_test, Y_pred_test)\n",
    "rmse_filtered_test2 = np.sqrt(mean_squared_error(Y_test, Y_pred_test))\n",
    "r2_filtered_test2 = r2_score(Y_test, Y_pred_test)\n",
    "\n",
    "# Print the results\n",
    "print(\"MAE (filtered test):\", mae_filtered_test2)\n",
    "print(\"RMSE (filtered test):\", rmse_filtered_test2)\n",
    "print(\"R^2 (filtered test):\", r2_filtered_test2)"
   ]
  },
  {
   "cell_type": "code",
   "execution_count": 11,
   "id": "495e9812",
   "metadata": {},
   "outputs": [
    {
     "name": "stderr",
     "output_type": "stream",
     "text": [
      "C:\\Users\\DEDP Grader\\anaconda3\\envs\\rdkit\\lib\\site-packages\\tqdm\\auto.py:22: TqdmWarning: IProgress not found. Please update jupyter and ipywidgets. See https://ipywidgets.readthedocs.io/en/stable/user_install.html\n",
      "  from .autonotebook import tqdm as notebook_tqdm\n"
     ]
    }
   ],
   "source": [
    "import shap\n",
    "from sklearn.preprocessing import StandardScaler\n",
    "import os\n",
    "import sys"
   ]
  },
  {
   "cell_type": "code",
   "execution_count": 12,
   "id": "54ed5896",
   "metadata": {},
   "outputs": [],
   "source": [
    "scaler = StandardScaler()"
   ]
  },
  {
   "cell_type": "code",
   "execution_count": 14,
   "id": "75a4cbf6",
   "metadata": {},
   "outputs": [],
   "source": [
    "X = X_test\n",
    "\n",
    "X2= scaler.fit_transform(X)\n",
    "explainer = shap.TreeExplainer(model)\n",
    "shap_values = explainer.shap_values(X2)"
   ]
  },
  {
   "cell_type": "code",
   "execution_count": 15,
   "id": "a95f2013",
   "metadata": {},
   "outputs": [
    {
     "data": {
      "image/png": "[encoded data removed]",
      "text/plain": [
       "<Figure size 576x655.2 with 1 Axes>"
      ]
     },
     "metadata": {
      "needs_background": "light"
     },
     "output_type": "display_data"
    }
   ],
   "source": [
    "shap.summary_plot(shap_values, X_test, plot_type=\"bar\",show=False,max_display=20,plot_size=0.4) \n",
    "#shap.summary_plot(shap_values, max_display=12, plot_type=\"bar\",show=False)\n",
    "plt.savefig('CaSO4-Gypsum.pdf',bbox_inches='tight',dpi = 1000)"
   ]
  },
  {
   "cell_type": "code",
   "execution_count": null,
   "id": "eebf0fb7",
   "metadata": {},
   "outputs": [],
   "source": []
  },
  {
   "cell_type": "code",
   "execution_count": null,
   "id": "a3e1a6ef",
   "metadata": {},
   "outputs": [],
   "source": []
  },
  {
   "cell_type": "code",
   "execution_count": null,
   "id": "a1380a3a",
   "metadata": {},
   "outputs": [],
   "source": []
  },
  {
   "cell_type": "code",
   "execution_count": 6,
   "id": "de61fd77",
   "metadata": {},
   "outputs": [
    {
     "name": "stdout",
     "output_type": "stream",
     "text": [
      "XGBRegressor(base_score=None, booster=None, callbacks=None,\n",
      "             colsample_bylevel=None, colsample_bynode=None,\n",
      "             colsample_bytree=None, early_stopping_rounds=None,\n",
      "             enable_categorical=False, eval_metric=None, gamma=None,\n",
      "             gpu_id=None, grow_policy=None, importance_type=None,\n",
      "             interaction_constraints=None, learning_rate=None, max_bin=None,\n",
      "             max_cat_to_onehot=None, max_delta_step=None, max_depth=None,\n",
      "             max_leaves=None, min_child_weight=None, missing=nan,\n",
      "             monotone_constraints=None, n_estimators=100, n_jobs=None,\n",
      "             num_parallel_tree=None, predictor=None, random_state=None,\n",
      "             reg_alpha=None, reg_lambda=None, ...)\n"
     ]
    }
   ],
   "source": [
    "import xgboost as xgb\n",
    "xgbr = xgb.XGBRegressor(verbosity=1) \n",
    "print(xgbr)"
   ]
  },
  {
   "cell_type": "code",
   "execution_count": 7,
   "id": "7649c679",
   "metadata": {},
   "outputs": [
    {
     "data": {
      "text/plain": [
       "XGBRegressor(base_score=0.5, booster='gbtree', callbacks=None,\n",
       "             colsample_bylevel=1, colsample_bynode=1, colsample_bytree=1,\n",
       "             early_stopping_rounds=None, enable_categorical=False,\n",
       "             eval_metric=None, gamma=0, gpu_id=-1, grow_policy='depthwise',\n",
       "             importance_type=None, interaction_constraints='',\n",
       "             learning_rate=0.300000012, max_bin=256, max_cat_to_onehot=4,\n",
       "             max_delta_step=0, max_depth=6, max_leaves=0, min_child_weight=1,\n",
       "             missing=nan, monotone_constraints='()', n_estimators=100, n_jobs=0,\n",
       "             num_parallel_tree=1, predictor='auto', random_state=0, reg_alpha=0,\n",
       "             reg_lambda=1, ...)"
      ]
     },
     "execution_count": 7,
     "metadata": {},
     "output_type": "execute_result"
    }
   ],
   "source": [
    "xgbr.fit(X_train, Y_train)"
   ]
  },
  {
   "cell_type": "code",
   "execution_count": 8,
   "id": "5d7c7ebf",
   "metadata": {},
   "outputs": [
    {
     "name": "stdout",
     "output_type": "stream",
     "text": [
      "Mean squared error (RMSE): 0.04\n",
      "Coefficient of determination (R^2): 0.91\n"
     ]
    }
   ],
   "source": [
    "Y_pred_test = xgbr.predict(X_test)\n",
    "print('Mean squared error (RMSE): %.2f'\n",
    "      % mean_squared_error(Y_test, Y_pred_test,squared=False))\n",
    "print('Coefficient of determination (R^2): %.2f'\n",
    "      % r2_score(Y_test, Y_pred_test))"
   ]
  },
  {
   "cell_type": "code",
   "execution_count": 9,
   "id": "2d256fd3",
   "metadata": {},
   "outputs": [
    {
     "name": "stdout",
     "output_type": "stream",
     "text": [
      "Mean squared error (RMSE): 0.00\n",
      "Coefficient of determination (R^2): 1.00\n"
     ]
    }
   ],
   "source": [
    "#predicts the X_train\n",
    "Y_pred_train = xgbr.predict(X_train)\n",
    "#print('Coefficients:', model.coef_)\n",
    "#print('Intercept:', model.intercept_)\n",
    "print('Mean squared error (RMSE): %.2f'\n",
    "      % mean_squared_error(Y_train, Y_pred_train,squared=False))\n",
    "print('Coefficient of determination (R^2): %.2f'\n",
    "      % r2_score(Y_train, Y_pred_train))"
   ]
  },
  {
   "cell_type": "code",
   "execution_count": 10,
   "id": "e56e7c51",
   "metadata": {},
   "outputs": [
    {
     "name": "stdout",
     "output_type": "stream",
     "text": [
      "MAE (filtered test): 0.0010862507606437708\n",
      "RMSE (filtered test): 0.0015203563515597607\n",
      "R^2 (filtered test): 0.9998910094464541\n"
     ]
    }
   ],
   "source": [
    "mae_test2 = mean_absolute_error(Y_train, Y_pred_train)\n",
    "rmse_test2 = np.sqrt(mean_squared_error(Y_train, Y_pred_train))\n",
    "r2_test2 = r2_score(Y_train, Y_pred_train)\n",
    "\n",
    "# Print the results\n",
    "print(\"MAE (filtered test):\", mae_test2)\n",
    "print(\"RMSE (filtered test):\", rmse_test2)\n",
    "print(\"R^2 (filtered test):\", r2_test2)"
   ]
  },
  {
   "cell_type": "code",
   "execution_count": 11,
   "id": "3621c706",
   "metadata": {},
   "outputs": [
    {
     "name": "stdout",
     "output_type": "stream",
     "text": [
      "MAE (filtered test): 0.013917743542551448\n",
      "RMSE (filtered test): 0.04382996820722119\n",
      "R^2 (filtered test): 0.908753132833781\n"
     ]
    }
   ],
   "source": [
    "mae_filtered_test2 = mean_absolute_error(Y_test, Y_pred_test)\n",
    "rmse_filtered_test2 = np.sqrt(mean_squared_error(Y_test, Y_pred_test))\n",
    "r2_filtered_test2 = r2_score(Y_test, Y_pred_test)\n",
    "\n",
    "# Print the results\n",
    "print(\"MAE (filtered test):\", mae_filtered_test2)\n",
    "print(\"RMSE (filtered test):\", rmse_filtered_test2)\n",
    "print(\"R^2 (filtered test):\", r2_filtered_test2)"
   ]
  },
  {
   "cell_type": "code",
   "execution_count": 19,
   "id": "e645b886",
   "metadata": {},
   "outputs": [],
   "source": [
    "import pandas as pd\n",
    "\n",
    "# Define your column names\n",
    "columns = [\"CaSO4\", \"CaCO3\", \"BaSO4\", \"CaCO3\", \"SrSO4\", \"CaSO4:2H2O\", \"NaCl\", \"FeS\", \"SiO2\", \"FeCO3\", \"ZnS\"]\n",
    "\n",
    "# Create a DataFrame from ynew with the specified columns\n",
    "df = pd.DataFrame(ynew, columns=columns)\n",
    "\n",
    "# Specify the file path where you want to save the Excel file\n",
    "excel_file_path = \"output.xlsx\"\n",
    "\n",
    "# Save the DataFrame to an Excel file\n",
    "df.to_excel(excel_file_path, index=False)"
   ]
  },
  {
   "cell_type": "code",
   "execution_count": null,
   "id": "07c06799",
   "metadata": {},
   "outputs": [],
   "source": []
  }
 ],
 "metadata": {
  "kernelspec": {
   "display_name": "Python 3 (ipykernel)",
   "language": "python",
   "name": "python3"
  },
  "language_info": {
   "codemirror_mode": {
    "name": "ipython",
    "version": 3
   },
   "file_extension": ".py",
   "mimetype": "text/x-python",
   "name": "python",
   "nbconvert_exporter": "python",
   "pygments_lexer": "ipython3",
   "version": "3.9.12"
  }
 },
 "nbformat": 4,
 "nbformat_minor": 5
}
