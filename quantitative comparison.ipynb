{
 "cells": [
  {
   "cell_type": "code",
   "execution_count": 1,
   "id": "df207924-7be0-49d7-a355-d57bd3286bd9",
   "metadata": {},
   "outputs": [
    {
     "name": "stdout",
     "output_type": "stream",
     "text": [
      "XGBoost - MAE: 0.034, RMSE: 0.050\n",
      "Random Forest - MAE: 0.083, RMSE: 0.095\n"
     ]
    },
    {
     "name": "stderr",
     "output_type": "stream",
     "text": [
      "C:\\Users\\NP\\AppData\\Local\\Programs\\Python\\Python310\\lib\\site-packages\\sklearn\\metrics\\_regression.py:492: FutureWarning: 'squared' is deprecated in version 1.4 and will be removed in 1.6. To calculate the root mean squared error, use the function'root_mean_squared_error'.\n",
      "  warnings.warn(\n",
      "C:\\Users\\NP\\AppData\\Local\\Programs\\Python\\Python310\\lib\\site-packages\\sklearn\\metrics\\_regression.py:492: FutureWarning: 'squared' is deprecated in version 1.4 and will be removed in 1.6. To calculate the root mean squared error, use the function'root_mean_squared_error'.\n",
      "  warnings.warn(\n"
     ]
    }
   ],
   "source": [
    "import numpy as np\n",
    "from sklearn.metrics import mean_absolute_error, mean_squared_error\n",
    "\n",
    "# Saturation Index values for each model\n",
    "phreeqc = [1.11, 1.68, 0.38, -0.08, 0.12, 2.67, -0.31, -0.32]  # reference\n",
    "xgboost = [1.02, 1.67, 0.37, -0.11, 0.09, 2.67, -0.21, -0.32]\n",
    "rf =      [1.00, 1.67, 0.29, -0.12, 0.08, 2.50, -0.22, -0.43]\n",
    "\n",
    "# Calculate MAE\n",
    "mae_xgboost = mean_absolute_error(phreeqc, xgboost)\n",
    "mae_rf = mean_absolute_error(phreeqc, rf)\n",
    "\n",
    "# Calculate RMSE\n",
    "rmse_xgboost = mean_squared_error(phreeqc, xgboost, squared=False)\n",
    "rmse_rf = mean_squared_error(phreeqc, rf, squared=False)\n",
    "\n",
    "# Print results\n",
    "print(f\"XGBoost - MAE: {mae_xgboost:.3f}, RMSE: {rmse_xgboost:.3f}\")\n",
    "print(f\"Random Forest - MAE: {mae_rf:.3f}, RMSE: {rmse_rf:.3f}\")\n"
   ]
  },
  {
   "cell_type": "code",
   "execution_count": 2,
   "id": "096beedc-e380-4996-bca2-b187b1708d0f",
   "metadata": {},
   "outputs": [
    {
     "name": "stdout",
     "output_type": "stream",
     "text": [
      "XGBoost - MAE: 0.014, RMSE: 0.021\n",
      "Random Forest - MAE: 0.106, RMSE: 0.132\n"
     ]
    },
    {
     "name": "stderr",
     "output_type": "stream",
     "text": [
      "C:\\Users\\NP\\AppData\\Local\\Programs\\Python\\Python310\\lib\\site-packages\\sklearn\\metrics\\_regression.py:492: FutureWarning: 'squared' is deprecated in version 1.4 and will be removed in 1.6. To calculate the root mean squared error, use the function'root_mean_squared_error'.\n",
      "  warnings.warn(\n",
      "C:\\Users\\NP\\AppData\\Local\\Programs\\Python\\Python310\\lib\\site-packages\\sklearn\\metrics\\_regression.py:492: FutureWarning: 'squared' is deprecated in version 1.4 and will be removed in 1.6. To calculate the root mean squared error, use the function'root_mean_squared_error'.\n",
      "  warnings.warn(\n"
     ]
    }
   ],
   "source": [
    "import numpy as np\n",
    "from sklearn.metrics import mean_absolute_error, mean_squared_error\n",
    "\n",
    "# Saturation Index values for each model\n",
    "phreeqc = [1.59, 1.68, 0.38, -0.16, -0.04, 2.66, 0.09, -0.39]  # reference\n",
    "xgboost = [1.59, 1.68, 0.37, -0.17, -0.05, 2.7, 0.13, -0.39]\n",
    "rf =      [1.48, 1.65, 0.28, -0.24, -0.14, 2.36, 0.13, -0.48]\n",
    "\n",
    "# Calculate MAE\n",
    "mae_xgboost = mean_absolute_error(phreeqc, xgboost)\n",
    "mae_rf = mean_absolute_error(phreeqc, rf)\n",
    "\n",
    "# Calculate RMSE\n",
    "rmse_xgboost = mean_squared_error(phreeqc, xgboost, squared=False)\n",
    "rmse_rf = mean_squared_error(phreeqc, rf, squared=False)\n",
    "\n",
    "# Print results\n",
    "print(f\"XGBoost - MAE: {mae_xgboost:.3f}, RMSE: {rmse_xgboost:.3f}\")\n",
    "print(f\"Random Forest - MAE: {mae_rf:.3f}, RMSE: {rmse_rf:.3f}\")"
   ]
  },
  {
   "cell_type": "code",
   "execution_count": 3,
   "id": "5fb940d6-a233-472c-8420-3355af83aec6",
   "metadata": {},
   "outputs": [
    {
     "name": "stdout",
     "output_type": "stream",
     "text": [
      "XGBoost - MAE: 0.007, RMSE: 0.010\n",
      "Random Forest - MAE: 0.110, RMSE: 0.155\n"
     ]
    },
    {
     "name": "stderr",
     "output_type": "stream",
     "text": [
      "C:\\Users\\NP\\AppData\\Local\\Programs\\Python\\Python310\\lib\\site-packages\\sklearn\\metrics\\_regression.py:492: FutureWarning: 'squared' is deprecated in version 1.4 and will be removed in 1.6. To calculate the root mean squared error, use the function'root_mean_squared_error'.\n",
      "  warnings.warn(\n",
      "C:\\Users\\NP\\AppData\\Local\\Programs\\Python\\Python310\\lib\\site-packages\\sklearn\\metrics\\_regression.py:492: FutureWarning: 'squared' is deprecated in version 1.4 and will be removed in 1.6. To calculate the root mean squared error, use the function'root_mean_squared_error'.\n",
      "  warnings.warn(\n"
     ]
    }
   ],
   "source": [
    "import numpy as np\n",
    "from sklearn.metrics import mean_absolute_error, mean_squared_error\n",
    "\n",
    "# Saturation Index values for each model\n",
    "phreeqc = [0.14, 1.84, 0.45, -0.07, 0.08, 2.82, -0.98, -0.27]  # reference\n",
    "xgboost = [0.13, 1.85, 0.46, -0.07, 0.08, 2.81, -0.98, -0.29]\n",
    "rf =      [-0.09, 1.84, 0.43, -0.09, -0.05, 2.49, -1.08, -0.32]\n",
    "\n",
    "# Calculate MAE\n",
    "mae_xgboost = mean_absolute_error(phreeqc, xgboost)\n",
    "mae_rf = mean_absolute_error(phreeqc, rf)\n",
    "\n",
    "# Calculate RMSE\n",
    "rmse_xgboost = mean_squared_error(phreeqc, xgboost, squared=False)\n",
    "rmse_rf = mean_squared_error(phreeqc, rf, squared=False)\n",
    "\n",
    "# Print results\n",
    "print(f\"XGBoost - MAE: {mae_xgboost:.3f}, RMSE: {rmse_xgboost:.3f}\")\n",
    "print(f\"Random Forest - MAE: {mae_rf:.3f}, RMSE: {rmse_rf:.3f}\")"
   ]
  },
  {
   "cell_type": "code",
   "execution_count": 4,
   "id": "3cd84512-da67-427c-bacc-5b84412a5399",
   "metadata": {},
   "outputs": [
    {
     "name": "stdout",
     "output_type": "stream",
     "text": [
      "XGBoost - MAE: 0.134, RMSE: 0.309\n",
      "Random Forest - MAE: 0.301, RMSE: 0.543\n"
     ]
    },
    {
     "name": "stderr",
     "output_type": "stream",
     "text": [
      "C:\\Users\\NP\\AppData\\Local\\Programs\\Python\\Python310\\lib\\site-packages\\sklearn\\metrics\\_regression.py:492: FutureWarning: 'squared' is deprecated in version 1.4 and will be removed in 1.6. To calculate the root mean squared error, use the function'root_mean_squared_error'.\n",
      "  warnings.warn(\n",
      "C:\\Users\\NP\\AppData\\Local\\Programs\\Python\\Python310\\lib\\site-packages\\sklearn\\metrics\\_regression.py:492: FutureWarning: 'squared' is deprecated in version 1.4 and will be removed in 1.6. To calculate the root mean squared error, use the function'root_mean_squared_error'.\n",
      "  warnings.warn(\n"
     ]
    }
   ],
   "source": [
    "import numpy as np\n",
    "from sklearn.metrics import mean_absolute_error, mean_squared_error\n",
    "\n",
    "# Saturation Index values for each model\n",
    "phreeqc = [0.42, 1.75, 0.42,-0.11,0.02,2.8,-3.28,-0.33,]  # reference\n",
    "xgboost = [0.37,1.78,0.43,-0.13,0.03,2.73,-2.41,-0.32,]\n",
    "rf =      [0.36,1.56,0.36,-0.12,-0.14,2.34,-1.84,-0.36]\n",
    "\n",
    "# Calculate MAE\n",
    "mae_xgboost = mean_absolute_error(phreeqc, xgboost)\n",
    "mae_rf = mean_absolute_error(phreeqc, rf)\n",
    "\n",
    "# Calculate RMSE\n",
    "rmse_xgboost = mean_squared_error(phreeqc, xgboost, squared=False)\n",
    "rmse_rf = mean_squared_error(phreeqc, rf, squared=False)\n",
    "\n",
    "# Print results\n",
    "print(f\"XGBoost - MAE: {mae_xgboost:.3f}, RMSE: {rmse_xgboost:.3f}\")\n",
    "print(f\"Random Forest - MAE: {mae_rf:.3f}, RMSE: {rmse_rf:.3f}\")"
   ]
  },
  {
   "cell_type": "code",
   "execution_count": 5,
   "id": "7580f505-c70e-4d13-a422-0628cedd88df",
   "metadata": {},
   "outputs": [
    {
     "name": "stdout",
     "output_type": "stream",
     "text": [
      "XGBoost - MAE: 0.024, RMSE: 0.041\n",
      "Random Forest - MAE: 0.086, RMSE: 0.117\n"
     ]
    },
    {
     "name": "stderr",
     "output_type": "stream",
     "text": [
      "C:\\Users\\NP\\AppData\\Local\\Programs\\Python\\Python310\\lib\\site-packages\\sklearn\\metrics\\_regression.py:492: FutureWarning: 'squared' is deprecated in version 1.4 and will be removed in 1.6. To calculate the root mean squared error, use the function'root_mean_squared_error'.\n",
      "  warnings.warn(\n",
      "C:\\Users\\NP\\AppData\\Local\\Programs\\Python\\Python310\\lib\\site-packages\\sklearn\\metrics\\_regression.py:492: FutureWarning: 'squared' is deprecated in version 1.4 and will be removed in 1.6. To calculate the root mean squared error, use the function'root_mean_squared_error'.\n",
      "  warnings.warn(\n"
     ]
    }
   ],
   "source": [
    "import numpy as np\n",
    "from sklearn.metrics import mean_absolute_error, mean_squared_error\n",
    "\n",
    "# Saturation Index values for each model\n",
    "phreeqc = [0.12,1.84,0.42,-0.09,0.01,2.76,-0.92,-0.31]  # reference\n",
    "xgboost = [0.13,1.86,0.41,-0.1,0.02,2.74,-1.03,-0.31]\n",
    "rf =      [-0.01,1.8,0.4,-0.12,-0.03,2.5,-1.06,-0.34]\n",
    "\n",
    "# Calculate MAE\n",
    "mae_xgboost = mean_absolute_error(phreeqc, xgboost)\n",
    "mae_rf = mean_absolute_error(phreeqc, rf)\n",
    "\n",
    "# Calculate RMSE\n",
    "rmse_xgboost = mean_squared_error(phreeqc, xgboost, squared=False)\n",
    "rmse_rf = mean_squared_error(phreeqc, rf, squared=False)\n",
    "\n",
    "# Print results\n",
    "print(f\"XGBoost - MAE: {mae_xgboost:.3f}, RMSE: {rmse_xgboost:.3f}\")\n",
    "print(f\"Random Forest - MAE: {mae_rf:.3f}, RMSE: {rmse_rf:.3f}\")"
   ]
  },
  {
   "cell_type": "code",
   "execution_count": 6,
   "id": "ad10e02e-a775-46c8-a7cf-58a3a448a4da",
   "metadata": {},
   "outputs": [
    {
     "name": "stdout",
     "output_type": "stream",
     "text": [
      "XGBoost - MAE: 0.029, RMSE: 0.058\n",
      "Random Forest - MAE: 0.064, RMSE: 0.082\n"
     ]
    },
    {
     "name": "stderr",
     "output_type": "stream",
     "text": [
      "C:\\Users\\NP\\AppData\\Local\\Programs\\Python\\Python310\\lib\\site-packages\\sklearn\\metrics\\_regression.py:492: FutureWarning: 'squared' is deprecated in version 1.4 and will be removed in 1.6. To calculate the root mean squared error, use the function'root_mean_squared_error'.\n",
      "  warnings.warn(\n",
      "C:\\Users\\NP\\AppData\\Local\\Programs\\Python\\Python310\\lib\\site-packages\\sklearn\\metrics\\_regression.py:492: FutureWarning: 'squared' is deprecated in version 1.4 and will be removed in 1.6. To calculate the root mean squared error, use the function'root_mean_squared_error'.\n",
      "  warnings.warn(\n"
     ]
    }
   ],
   "source": [
    "import numpy as np\n",
    "from sklearn.metrics import mean_absolute_error, mean_squared_error\n",
    "\n",
    "# Saturation Index values for each model\n",
    "phreeqc = [0.54,1.76,0.43,-0.1,-0.09,2.65,-0.52,-0.33]  # reference\n",
    "xgboost = [0.53,1.73,0.42,-0.09,-0.09,2.64,-0.68,-0.33]\n",
    "rf =      [0.49,1.8,0.39,-0.14,-0.09,2.5,-0.67,-0.37]\n",
    "\n",
    "# Calculate MAE\n",
    "mae_xgboost = mean_absolute_error(phreeqc, xgboost)\n",
    "mae_rf = mean_absolute_error(phreeqc, rf)\n",
    "\n",
    "# Calculate RMSE\n",
    "rmse_xgboost = mean_squared_error(phreeqc, xgboost, squared=False)\n",
    "rmse_rf = mean_squared_error(phreeqc, rf, squared=False)\n",
    "\n",
    "# Print results\n",
    "print(f\"XGBoost - MAE: {mae_xgboost:.3f}, RMSE: {rmse_xgboost:.3f}\")\n",
    "print(f\"Random Forest - MAE: {mae_rf:.3f}, RMSE: {rmse_rf:.3f}\")"
   ]
  },
  {
   "cell_type": "code",
   "execution_count": 7,
   "id": "a9965ce0-db7b-40da-a24a-76d976503dac",
   "metadata": {},
   "outputs": [
    {
     "name": "stdout",
     "output_type": "stream",
     "text": [
      "XGBoost - MAE: 0.024, RMSE: 0.044\n",
      "Random Forest - MAE: 0.075, RMSE: 0.086\n"
     ]
    },
    {
     "name": "stderr",
     "output_type": "stream",
     "text": [
      "C:\\Users\\NP\\AppData\\Local\\Programs\\Python\\Python310\\lib\\site-packages\\sklearn\\metrics\\_regression.py:492: FutureWarning: 'squared' is deprecated in version 1.4 and will be removed in 1.6. To calculate the root mean squared error, use the function'root_mean_squared_error'.\n",
      "  warnings.warn(\n",
      "C:\\Users\\NP\\AppData\\Local\\Programs\\Python\\Python310\\lib\\site-packages\\sklearn\\metrics\\_regression.py:492: FutureWarning: 'squared' is deprecated in version 1.4 and will be removed in 1.6. To calculate the root mean squared error, use the function'root_mean_squared_error'.\n",
      "  warnings.warn(\n"
     ]
    }
   ],
   "source": [
    "import numpy as np\n",
    "from sklearn.metrics import mean_absolute_error, mean_squared_error\n",
    "\n",
    "# Saturation Index values for each model\n",
    "phreeqc = [0.67,1.8,0.39,-0.11,-0.06,2.65,-0.52,-0.34]  # reference\n",
    "xgboost = [0.65,1.8,0.4,-0.12,-0.07,2.63,-0.64,-0.34]\n",
    "rf =      [0.54,1.76,0.34,-0.18,-0.07,2.52,-0.63,-0.4]\n",
    "\n",
    "# Calculate MAE\n",
    "mae_xgboost = mean_absolute_error(phreeqc, xgboost)\n",
    "mae_rf = mean_absolute_error(phreeqc, rf)\n",
    "\n",
    "# Calculate RMSE\n",
    "rmse_xgboost = mean_squared_error(phreeqc, xgboost, squared=False)\n",
    "rmse_rf = mean_squared_error(phreeqc, rf, squared=False)\n",
    "\n",
    "# Print results\n",
    "print(f\"XGBoost - MAE: {mae_xgboost:.3f}, RMSE: {rmse_xgboost:.3f}\")\n",
    "print(f\"Random Forest - MAE: {mae_rf:.3f}, RMSE: {rmse_rf:.3f}\")"
   ]
  },
  {
   "cell_type": "code",
   "execution_count": 8,
   "id": "91006ca1-3226-4045-a361-40ea3de85659",
   "metadata": {},
   "outputs": [
    {
     "name": "stdout",
     "output_type": "stream",
     "text": [
      "XGBoost - MAE: 0.014, RMSE: 0.017\n",
      "Random Forest - MAE: 0.078, RMSE: 0.099\n"
     ]
    },
    {
     "name": "stderr",
     "output_type": "stream",
     "text": [
      "C:\\Users\\NP\\AppData\\Local\\Programs\\Python\\Python310\\lib\\site-packages\\sklearn\\metrics\\_regression.py:492: FutureWarning: 'squared' is deprecated in version 1.4 and will be removed in 1.6. To calculate the root mean squared error, use the function'root_mean_squared_error'.\n",
      "  warnings.warn(\n",
      "C:\\Users\\NP\\AppData\\Local\\Programs\\Python\\Python310\\lib\\site-packages\\sklearn\\metrics\\_regression.py:492: FutureWarning: 'squared' is deprecated in version 1.4 and will be removed in 1.6. To calculate the root mean squared error, use the function'root_mean_squared_error'.\n",
      "  warnings.warn(\n"
     ]
    }
   ],
   "source": [
    "import numpy as np\n",
    "from sklearn.metrics import mean_absolute_error, mean_squared_error\n",
    "\n",
    "# Saturation Index values for each model\n",
    "phreeqc = [0.52,1.83,0.45,-0.06,0.09,2.74,-0.77,-0.26]  # reference\n",
    "xgboost = [0.5,1.85,0.48,-0.07,0.08,2.74,-0.79,-0.26]\n",
    "rf =      [0.52,1.84,0.4,-0.12,-0.05,2.54,-0.7,-0.35]\n",
    "\n",
    "# Calculate MAE\n",
    "mae_xgboost = mean_absolute_error(phreeqc, xgboost)\n",
    "mae_rf = mean_absolute_error(phreeqc, rf)\n",
    "\n",
    "# Calculate RMSE\n",
    "rmse_xgboost = mean_squared_error(phreeqc, xgboost, squared=False)\n",
    "rmse_rf = mean_squared_error(phreeqc, rf, squared=False)\n",
    "\n",
    "# Print results\n",
    "print(f\"XGBoost - MAE: {mae_xgboost:.3f}, RMSE: {rmse_xgboost:.3f}\")\n",
    "print(f\"Random Forest - MAE: {mae_rf:.3f}, RMSE: {rmse_rf:.3f}\")"
   ]
  },
  {
   "cell_type": "code",
   "execution_count": null,
   "id": "1b8ae12d-7307-40f5-8f36-03507c5c4c14",
   "metadata": {},
   "outputs": [],
   "source": []
  },
  {
   "cell_type": "code",
   "execution_count": 3,
   "id": "62cc1098-3663-4657-9821-0c45b2c0d13e",
   "metadata": {},
   "outputs": [
    {
     "name": "stdout",
     "output_type": "stream",
     "text": [
      "XGBoost - MAE: 0.034, RMSE: 0.050\n",
      "Random Forest - MAE: 0.083, RMSE: 0.095\n"
     ]
    },
    {
     "name": "stderr",
     "output_type": "stream",
     "text": [
      "C:\\Users\\parso\\anaconda3\\Lib\\site-packages\\sklearn\\metrics\\_regression.py:483: FutureWarning: 'squared' is deprecated in version 1.4 and will be removed in 1.6. To calculate the root mean squared error, use the function'root_mean_squared_error'.\n",
      "  warnings.warn(\n",
      "C:\\Users\\parso\\anaconda3\\Lib\\site-packages\\sklearn\\metrics\\_regression.py:483: FutureWarning: 'squared' is deprecated in version 1.4 and will be removed in 1.6. To calculate the root mean squared error, use the function'root_mean_squared_error'.\n",
      "  warnings.warn(\n"
     ]
    }
   ],
   "source": [
    "import numpy as np\n",
    "from sklearn.metrics import mean_absolute_error, mean_squared_error\n",
    "\n",
    "phreeqc = [1.11, 1.68, 0.38, -0.08, 0.12, 2.67, -0.31, -0.32]\n",
    "xgboost  = [1.02, 1.67, 0.37, -0.11, 0.09, 2.67, -0.21, -0.32]\n",
    "rf       = [1.00, 1.67, 0.29, -0.12, 0.08, 2.50, -0.22, -0.43]\n",
    "\n",
    "mae_xgb = mean_absolute_error(phreeqc, xgboost)\n",
    "rmse_xgb = mean_squared_error(phreeqc, xgboost, squared=False)\n",
    "\n",
    "mae_rf = mean_absolute_error(phreeqc, rf)\n",
    "rmse_rf = mean_squared_error(phreeqc, rf, squared=False)\n",
    "\n",
    "print(f\"XGBoost - MAE: {mae_xgb:.3f}, RMSE: {rmse_xgb:.3f}\")\n",
    "print(f\"Random Forest - MAE: {mae_rf:.3f}, RMSE: {rmse_rf:.3f}\")"
   ]
  },
  {
   "cell_type": "code",
   "execution_count": null,
   "id": "5a4b27dc-6b83-4c11-bcbf-2cd3abac6930",
   "metadata": {},
   "outputs": [],
   "source": []
  }
 ],
 "metadata": {
  "kernelspec": {
   "display_name": "Python 3 (ipykernel)",
   "language": "python",
   "name": "python3"
  },
  "language_info": {
   "codemirror_mode": {
    "name": "ipython",
    "version": 3
   },
   "file_extension": ".py",
   "mimetype": "text/x-python",
   "name": "python",
   "nbconvert_exporter": "python",
   "pygments_lexer": "ipython3",
   "version": "3.10.6"
  }
 },
 "nbformat": 4,
 "nbformat_minor": 5
}
